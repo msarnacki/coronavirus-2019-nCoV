{
 "cells": [
  {
   "cell_type": "code",
   "execution_count": 4,
   "metadata": {},
   "outputs": [],
   "source": [
    "import pandas as pd\n",
    "import numpy as np\n",
    "import matplotlib.pyplot as plt"
   ]
  },
  {
   "cell_type": "code",
   "execution_count": 5,
   "metadata": {},
   "outputs": [],
   "source": [
    "### lists and dicts to help clear dataframes\n",
    "#list of columns i want to keep\n",
    "const_cols = [\"Province/State\", \"Country\", \"Country/Region\", \"Date last updated\", \"Last Update\", \"Confirmed\", \"Recovered\", \"Deaths\"]\n",
    "#dict of column names to change\n",
    "column_names = {\"Country\": \"Country/Region\", \"Date last updated\": \"Last Update\"}\n",
    "#dict of columns and values to put in NaNs\n",
    "fillna_values = {'Province/State': \"\", \"Country/Region\": \"\", \"Confirmed\": 0, \"Recovered\": 0, \"Deaths\":0}"
   ]
  },
  {
   "cell_type": "code",
   "execution_count": 6,
   "metadata": {},
   "outputs": [],
   "source": [
    "def read_time_series_csv(url, save, file_name):\n",
    "    \n",
    "    df_ts = pd.read_csv(url)\n",
    "    \n",
    "    #df_ts = df_ts.dropna(axis=0, how='all')\n",
    "    #df_ts = df_ts.dropna(axis=1, how='all')\n",
    "\n",
    "    df_text = df_ts[df_ts.columns[0:2]]\n",
    "    df_text = df_text.fillna(value = '')\n",
    "    \n",
    "    df_val = df_ts[df_ts.columns[2:len(df_ts.columns)]]\n",
    "    df_val = df_val.fillna(value = 0)\n",
    "    \n",
    "    df_ts = pd.concat([df_text,df_val],axis=1)\n",
    "    \n",
    "    if save == True:\n",
    "        writer = pd.ExcelWriter(file_name, engine='xlsxwriter')\n",
    "\n",
    "        df_ts.to_excel(writer, index=False)\n",
    "\n",
    "        writer.save()\n",
    "\n",
    "    return df_ts"
   ]
  },
  {
   "cell_type": "code",
   "execution_count": 7,
   "metadata": {},
   "outputs": [],
   "source": [
    "url_confirmed = \"https://raw.githubusercontent.com/CSSEGISandData/COVID-19/master/csse_covid_19_data/csse_covid_19_time_series/time_series_19-covid-Confirmed.csv\"\n",
    "url_deaths = \"https://raw.githubusercontent.com/CSSEGISandData/COVID-19/master/csse_covid_19_data/csse_covid_19_time_series/time_series_19-covid-Deaths.csv\"\n",
    "url_recovered = \"https://raw.githubusercontent.com/CSSEGISandData/COVID-19/master/csse_covid_19_data/csse_covid_19_time_series/time_series_19-covid-Recovered.csv\""
   ]
  },
  {
   "cell_type": "code",
   "execution_count": 8,
   "metadata": {},
   "outputs": [],
   "source": [
    "df_confirmed = read_time_series_csv(url_confirmed, True, \"COVID19-Confirmed.xlsx\")\n",
    "df_deaths = read_time_series_csv(url_deaths, True, \"COVID19-Deaths.xlsx\")\n",
    "df_recovered = read_time_series_csv(url_recovered, True, \"COVID19-Recovered.xlsx\")"
   ]
  },
  {
   "cell_type": "code",
   "execution_count": 9,
   "metadata": {},
   "outputs": [
    {
     "name": "stdout",
     "output_type": "stream",
     "text": [
      "                  Province/State        Country/Region       Lat       Long  \\\n",
      "0                          Anhui        Mainland China  31.82571  117.22640   \n",
      "1                        Beijing        Mainland China  40.18238  116.41420   \n",
      "2                      Chongqing        Mainland China  30.05718  107.87400   \n",
      "3                         Fujian        Mainland China  26.07783  117.98950   \n",
      "4                          Gansu        Mainland China  36.06110  103.83430   \n",
      "5                      Guangdong        Mainland China  23.33841  113.42200   \n",
      "6                        Guangxi        Mainland China  23.82908  108.78810   \n",
      "7                        Guizhou        Mainland China  26.81536  106.87480   \n",
      "8                         Hainan        Mainland China  19.19673  109.74550   \n",
      "9                          Hebei        Mainland China  38.04280  114.51490   \n",
      "10                  Heilongjiang        Mainland China  47.86200  127.76220   \n",
      "11                         Henan        Mainland China  33.88202  113.61400   \n",
      "12                         Hubei        Mainland China  30.97564  112.27070   \n",
      "13                         Hunan        Mainland China  27.61041  111.70880   \n",
      "14                Inner Mongolia        Mainland China  44.09448  113.94560   \n",
      "15                       Jiangsu        Mainland China  32.97027  119.46400   \n",
      "16                       Jiangxi        Mainland China  27.61401  115.72210   \n",
      "17                         Jilin        Mainland China  43.66657  126.19170   \n",
      "18                      Liaoning        Mainland China  41.29284  122.60860   \n",
      "19                       Ningxia        Mainland China  37.26923  106.16550   \n",
      "20                       Qinghai        Mainland China  35.65945   96.02564   \n",
      "21                       Shaanxi        Mainland China  35.19165  108.87010   \n",
      "22                      Shandong        Mainland China  36.34377  118.15290   \n",
      "23                      Shanghai        Mainland China  31.20327  121.45540   \n",
      "24                        Shanxi        Mainland China  37.57769  112.29220   \n",
      "25                       Sichuan        Mainland China  30.61714  102.71030   \n",
      "26                       Tianjin        Mainland China  39.29362  117.33300   \n",
      "27                         Tibet        Mainland China  30.15340   88.78790   \n",
      "28                      Xinjiang        Mainland China  41.11981   85.17822   \n",
      "29                        Yunnan        Mainland China  24.97411  101.48680   \n",
      "..                           ...                   ...       ...        ...   \n",
      "45                   Toronto, ON                Canada  43.65320  -79.38320   \n",
      "46              British Columbia                Canada  49.28270 -123.12100   \n",
      "47                    Orange, CA                    US  33.78790 -117.85310   \n",
      "48               Los Angeles, CA                    US  34.05220 -118.24370   \n",
      "49               New South Wales             Australia -33.86880  151.20930   \n",
      "50                      Victoria             Australia -37.81360  144.96310   \n",
      "51                    Queensland             Australia -27.46980  153.02510   \n",
      "52                                            Cambodia  12.56570  104.99100   \n",
      "53                                           Sri Lanka   7.87310   80.77180   \n",
      "54                                             Germany  51.16570   10.45150   \n",
      "55                                             Finland  61.92410   25.74820   \n",
      "56                                United Arab Emirates  23.42410   53.84780   \n",
      "57                                         Philippines  12.87970  121.77400   \n",
      "58                                               India  20.59370   78.96290   \n",
      "59                    London, ON                Canada  42.98490  -81.24530   \n",
      "60                                               Italy  41.87190   12.56740   \n",
      "61                                                  UK  55.37810   -3.43600   \n",
      "62                                              Russia  61.52400  105.31880   \n",
      "63                                              Sweden  60.12820   18.64350   \n",
      "64               Santa Clara, CA                    US  37.35410 -121.95520   \n",
      "65                                               Spain  40.46370   -3.74920   \n",
      "66               South Australia             Australia -34.92850  138.60070   \n",
      "67                    Boston, MA                    US  42.36010  -71.05890   \n",
      "68                San Benito, CA                    US  36.57610 -120.98760   \n",
      "69                                             Belgium  50.50390    4.46990   \n",
      "70                   Madison, WI                    US  43.07310  -89.40120   \n",
      "71  Diamond Princess cruise ship                Others  35.44370  129.63800   \n",
      "72          San Diego County, CA                    US  32.71570 -117.16110   \n",
      "73               San Antonio, TX                    US  29.42410  -98.49360   \n",
      "74                                               Egypt  26.82060   30.80250   \n",
      "\n",
      "    1/22/20  1/23/20  1/24/20  1/25/20  1/26/20  1/27/20  ...  2/5/20  2/6/20  \\\n",
      "0         1        9       15       39       60       70  ...     530     591   \n",
      "1        14       22       36       41       68       80  ...     253     274   \n",
      "2         6        9       27       57       75      110  ...     389     411   \n",
      "3         1        5       10       18       35       59  ...     205     215   \n",
      "4         0        2        2        4        7       14  ...      62      62   \n",
      "5        26       32       53       78      111      151  ...     895     970   \n",
      "6         2        5       23       23       36       46  ...     150     168   \n",
      "7         1        3        3        4        5        7  ...      64      71   \n",
      "8         4        5        8       19       22       33  ...      99     106   \n",
      "9         1        1        2        8       13       18  ...     135     157   \n",
      "10        0        2        4        9       15       21  ...     190     227   \n",
      "11        5        5        9       32       83      128  ...     764     851   \n",
      "12      444      444      549      761     1058     1423  ...   19665   22112   \n",
      "13        4        9       24       43       69      100  ...     661     711   \n",
      "14        0        0        1        7        7       11  ...      42      46   \n",
      "15        1        5        9       18       33       47  ...     341     373   \n",
      "16        2        7       18       18       36       72  ...     548     600   \n",
      "17        0        1        3        4        4        6  ...      54      59   \n",
      "18        2        3        4       17       21       27  ...      89      94   \n",
      "19        1        1        2        3        4        7  ...      34      40   \n",
      "20        0        0        0        1        1        6  ...      17      18   \n",
      "21        0        3        5       15       22       35  ...     165     173   \n",
      "22        2        6       15       27       46       75  ...     307     347   \n",
      "23        9       16       20       33       40       53  ...     243     257   \n",
      "24        1        1        1        6        9       13  ...      81      96   \n",
      "25        5        8       15       28       44       69  ...     301     321   \n",
      "26        4        4        8       10       14       23  ...      69      79   \n",
      "27        0        0        0        0        0        0  ...       1       1   \n",
      "28        0        2        2        3        4        5  ...      32      36   \n",
      "29        1        2        5       11       16       26  ...     128     133   \n",
      "..      ...      ...      ...      ...      ...      ...  ...     ...     ...   \n",
      "45        0        0        0        0        0        0  ...       2       2   \n",
      "46        0        0        0        0        0        0  ...       2       2   \n",
      "47        0        0        0        0        0        0  ...       1       1   \n",
      "48        0        0        0        0        0        0  ...       1       1   \n",
      "49        0        0        0        0        0        4  ...       4       4   \n",
      "50        0        0        0        0        0        1  ...       4       4   \n",
      "51        0        0        0        0        0        0  ...       3       4   \n",
      "52        0        0        0        0        0        1  ...       1       1   \n",
      "53        0        0        0        0        0        1  ...       1       1   \n",
      "54        0        0        0        0        0        0  ...      12      12   \n",
      "55        0        0        0        0        0        0  ...       1       1   \n",
      "56        0        0        0        0        0        0  ...       5       5   \n",
      "57        0        0        0        0        0        0  ...       2       2   \n",
      "58        0        0        0        0        0        0  ...       3       3   \n",
      "59        0        0        0        0        0        0  ...       1       1   \n",
      "60        0        0        0        0        0        0  ...       2       2   \n",
      "61        0        0        0        0        0        0  ...       2       2   \n",
      "62        0        0        0        0        0        0  ...       2       2   \n",
      "63        0        0        0        0        0        0  ...       1       1   \n",
      "64        0        0        0        0        0        0  ...       2       2   \n",
      "65        0        0        0        0        0        0  ...       1       1   \n",
      "66        0        0        0        0        0        0  ...       2       2   \n",
      "67        0        0        0        0        0        0  ...       1       1   \n",
      "68        0        0        0        0        0        0  ...       2       2   \n",
      "69        0        0        0        0        0        0  ...       1       1   \n",
      "70        0        0        0        0        0        0  ...       1       1   \n",
      "71        0        0        0        0        0        0  ...       0       0   \n",
      "72        0        0        0        0        0        0  ...       0       0   \n",
      "73        0        0        0        0        0        0  ...       0       0   \n",
      "74        0        0        0        0        0        0  ...       0       0   \n",
      "\n",
      "    2/7/20  2/8/20  2/9/20  2/10/20  2/11/20  2/12/20  2/13/20  2/14/20  \n",
      "0      665     733     779      830      860      889      910      934  \n",
      "1      297     315     326      337      342      352      366      372  \n",
      "2      426     428     468      486      505      518      529      537  \n",
      "3      224     239     250      261      267      272      279      281  \n",
      "4       67      79      83       83       86       87       90       90  \n",
      "5     1034    1095    1131     1159     1177     1219     1241     1261  \n",
      "6      172     183     195      210      215      222      222      226  \n",
      "7       81      89      99      109      127      133      135      140  \n",
      "8      117     124     131      138      144      157      157      159  \n",
      "9      172     195     206      218      239      251      265      283  \n",
      "10     277     295     307      331      360      378      395      419  \n",
      "11     914     981    1033     1073     1105     1135     1169     1184  \n",
      "12   24953   27100   29631    31728    33366    33366    48206    54406  \n",
      "13     772     803     838      879      912      946      968      988  \n",
      "14      50      52      54       58       58       60       61       65  \n",
      "15     408     439     468      492      515      543      570      593  \n",
      "16     661     698     740      771      804      844      872      900  \n",
      "17      65      69      78       80       81       83       84       86  \n",
      "18      99     105     107      108      111      116      117      119  \n",
      "19      43      45      45       49       53       58       64       67  \n",
      "20      18      18      18       18       18       18       18       18  \n",
      "21     184     195     208      213      219      225      229      230  \n",
      "22     386     416     444      466      487      497      509      523  \n",
      "23     277     286     293      299      303      311      315      318  \n",
      "24     104     115     119      119      124      126      126      127  \n",
      "25     344     364     386      405      417      436      451      463  \n",
      "26      81      88      91       95      106      112      119      120  \n",
      "27       1       1       1        1        1        1        1        1  \n",
      "28      39      42      45       49       55       59       63       65  \n",
      "29     138     138     141      149      153      154      156      162  \n",
      "..     ...     ...     ...      ...      ...      ...      ...      ...  \n",
      "45       2       2       2        2        2        2        2        2  \n",
      "46       4       4       4        4        4        4        4        4  \n",
      "47       1       1       1        1        1        1        1        1  \n",
      "48       1       1       1        1        1        1        1        1  \n",
      "49       4       4       4        4        4        4        4        4  \n",
      "50       4       4       4        4        4        4        4        4  \n",
      "51       5       5       5        5        5        5        5        5  \n",
      "52       1       1       1        1        1        1        1        1  \n",
      "53       1       1       1        1        1        1        1        1  \n",
      "54      13      13      14       14       16       16       16       16  \n",
      "55       1       1       1        1        1        1        1        1  \n",
      "56       5       7       7        8        8        8        8        8  \n",
      "57       3       3       3        3        3        3        3        3  \n",
      "58       3       3       3        3        3        3        3        3  \n",
      "59       1       1       1        1        1        1        1        1  \n",
      "60       3       3       3        3        3        3        3        3  \n",
      "61       3       3       3        8        8        9        9        9  \n",
      "62       2       2       2        2        2        2        2        2  \n",
      "63       1       1       1        1        1        1        1        1  \n",
      "64       2       2       2        2        2        2        2        2  \n",
      "65       1       1       2        2        2        2        2        2  \n",
      "66       2       2       2        2        2        2        2        2  \n",
      "67       1       1       1        1        1        1        1        1  \n",
      "68       2       2       2        2        2        2        2        2  \n",
      "69       1       1       1        1        1        1        1        1  \n",
      "70       1       1       1        1        1        1        1        1  \n",
      "71       0       0      64      135      135      175      175      218  \n",
      "72       0       0       0        0        1        1        2        2  \n",
      "73       0       0       0        0        0        0        1        1  \n",
      "74       0       0       0        0        0        0        0        1  \n",
      "\n",
      "[75 rows x 28 columns]\n"
     ]
    }
   ],
   "source": [
    "print(df_confirmed)"
   ]
  },
  {
   "cell_type": "code",
   "execution_count": 10,
   "metadata": {},
   "outputs": [
    {
     "name": "stdout",
     "output_type": "stream",
     "text": [
      "Shape of df_confirmed: (75, 28)\n",
      "Shape of df_deaths: (75, 28)\n",
      "Shape of df_recovered: (75, 28)\n"
     ]
    }
   ],
   "source": [
    "print(\"Shape of df_confirmed: {}\".format(df_confirmed.shape))\n",
    "print(\"Shape of df_deaths: {}\".format(df_deaths.shape))\n",
    "print(\"Shape of df_recovered: {}\".format(df_recovered.shape))\n",
    "\n",
    "#printing whole df\n",
    "# with pd.option_context('display.max_rows', None, 'display.max_columns', None):\n",
    "#     print(df_confirmed)"
   ]
  },
  {
   "cell_type": "code",
   "execution_count": 11,
   "metadata": {},
   "outputs": [
    {
     "name": "stdout",
     "output_type": "stream",
     "text": [
      "1/23/20      639\n",
      "1/24/20      916\n",
      "1/25/20     1399\n",
      "1/26/20     2062\n",
      "1/27/20     2863\n",
      "1/28/20     5494\n",
      "1/29/20     6070\n",
      "1/30/20     8124\n",
      "1/31/20     9783\n",
      "2/1/20     11871\n",
      "2/2/20     16607\n",
      "2/3/20     19693\n",
      "2/4/20     23680\n",
      "2/5/20     27409\n",
      "2/6/20     30553\n",
      "2/7/20     34075\n",
      "2/8/20     36778\n",
      "2/9/20     39790\n",
      "2/10/20    42306\n",
      "2/11/20    44327\n",
      "2/12/20    44699\n",
      "2/13/20    59832\n",
      "2/14/20    66292\n",
      "dtype: int64\n"
     ]
    }
   ],
   "source": [
    "china_confirmed = df_confirmed[df_confirmed['Country/Region']==\"Mainland China\"].iloc[:,5:].sum(axis=0)\n",
    "china_deaths = df_deaths[df_deaths['Country/Region']==\"Mainland China\"].iloc[:,5:].sum(axis=0)\n",
    "china_recovered = df_recovered[df_recovered['Country/Region']==\"Mainland China\"].iloc[:,5:].sum(axis=0)\n",
    "\n",
    "print(china_confirmed)\n",
    "#print(china_recovered_series)\n",
    "#print(china_deaths_series)"
   ]
  },
  {
   "cell_type": "code",
   "execution_count": 12,
   "metadata": {},
   "outputs": [
    {
     "name": "stdout",
     "output_type": "stream",
     "text": [
      "['1/23/20' '1/24/20' '1/25/20' '1/26/20' '1/27/20' '1/28/20' '1/29/20'\n",
      " '1/30/20' '1/31/20' '2/1/20' '2/2/20' '2/3/20' '2/4/20' '2/5/20' '2/6/20'\n",
      " '2/7/20' '2/8/20' '2/9/20' '2/10/20' '2/11/20' '2/12/20' '2/13/20'\n",
      " '2/14/20']\n",
      "DatetimeIndex(['2020-01-23', '2020-01-24', '2020-01-25', '2020-01-26',\n",
      "               '2020-01-27', '2020-01-28', '2020-01-29', '2020-01-30',\n",
      "               '2020-01-31', '2020-02-01', '2020-02-02', '2020-02-03',\n",
      "               '2020-02-04', '2020-02-05', '2020-02-06', '2020-02-07',\n",
      "               '2020-02-08', '2020-02-09', '2020-02-10', '2020-02-11',\n",
      "               '2020-02-12', '2020-02-13', '2020-02-14'],\n",
      "              dtype='datetime64[ns]', freq=None)\n"
     ]
    }
   ],
   "source": [
    "dates_confirmed = china_confirmed.index.values\n",
    "dates_deaths = china_deaths.index.values\n",
    "dates_recovered = china_recovered.index.values\n",
    "\n",
    "print(dates_confirmed)\n",
    "#print(dates_1)\n",
    "#print(dates_2)\n",
    "\n",
    "dates_datetime_confirmed = pd.to_datetime(dates_confirmed, infer_datetime_format=True)\n",
    "dates_datetime_deaths = pd.to_datetime(dates_deaths, infer_datetime_format=True)\n",
    "dates_datetime_recovered = pd.to_datetime(dates_recovered, infer_datetime_format=True)\n",
    "\n",
    "print(dates_datetime_confirmed)\n"
   ]
  },
  {
   "cell_type": "code",
   "execution_count": 13,
   "metadata": {},
   "outputs": [],
   "source": [
    "#something for converting datetime for x axis\n",
    "from pandas.plotting import register_matplotlib_converters\n",
    "register_matplotlib_converters()"
   ]
  },
  {
   "cell_type": "code",
   "execution_count": 14,
   "metadata": {},
   "outputs": [
    {
     "data": {
      "image/png": "[encoded data removed]",
      "text/plain": [
       "<Figure size 432x288 with 1 Axes>"
      ]
     },
     "metadata": {
      "needs_background": "light"
     },
     "output_type": "display_data"
    }
   ],
   "source": [
    "plt.plot(dates_datetime_confirmed, china_confirmed, dates_datetime_deaths, china_deaths, dates_datetime_recovered, china_recovered)\n",
    "plt.xticks(rotation=60)\n",
    "plt.legend(['Confirmed', 'Deaths', 'Recovered'])\n",
    "plt.title(\"Mainland China\")\n",
    "plt.savefig(\"img/china.png\",bbox_inches='tight')"
   ]
  },
  {
   "cell_type": "code",
   "execution_count": 15,
   "metadata": {},
   "outputs": [
    {
     "name": "stdout",
     "output_type": "stream",
     "text": [
      "30\n",
      "['Mainland China' 'Thailand' 'Japan' 'South Korea' 'Taiwan' 'US' 'Macau'\n",
      " 'Hong Kong' 'Singapore' 'Vietnam' 'France' 'Nepal' 'Malaysia' 'Canada'\n",
      " 'Australia' 'Cambodia' 'Sri Lanka' 'Germany' 'Finland'\n",
      " 'United Arab Emirates' 'Philippines' 'India' 'Italy' 'UK' 'Russia'\n",
      " 'Sweden' 'Spain' 'Belgium' 'Others' 'Egypt']\n"
     ]
    }
   ],
   "source": [
    "countries_ts = df_confirmed['Country/Region'].unique()\n",
    "print(len(countries_ts))\n",
    "print(countries_ts)"
   ]
  },
  {
   "cell_type": "code",
   "execution_count": 16,
   "metadata": {},
   "outputs": [],
   "source": [
    "#for country in countries_ts:\n",
    "    #plt.plot(dates_datetime, ts_df_list[0][ts_df_list[0]['Country/Region']==country].iloc[:,5:].sum(axis=0))\n",
    "    #plt.show()"
   ]
  },
  {
   "cell_type": "code",
   "execution_count": 17,
   "metadata": {},
   "outputs": [],
   "source": [
    "#math for using floor\n",
    "import math"
   ]
  },
  {
   "cell_type": "code",
   "execution_count": null,
   "metadata": {},
   "outputs": [],
   "source": [
    "#country_confirmed = df_confirmed[df_confirmed['Country/Region']==countries_ts[0]].iloc[:,5:].sum(axis=0)\n",
    "#dates_confirmed = country_confirmed.index.values\n",
    "#dates_datetime_confirmed = pd.to_datetime(dates_confirmed, infer_datetime_format=True)\n",
    "\n",
    "#country_deaths = df_deaths[df_deaths['Country/Region']==countries_ts[0]].iloc[:,5:].sum(axis=0)\n",
    "#dates_deaths = country_deaths.index.values\n",
    "#dates_datetime_deaths = pd.to_datetime(dates_deaths, infer_datetime_format=True)\n",
    "\n",
    "#country_recovered = df_recovered[df_recovered['Country/Region']==countries_ts[0]].iloc[:,5:].sum(axis=0)\n",
    "#dates_recovered = country_recovered.index.values\n",
    "#dates_datetime_recovered = pd.to_datetime(dates_recovered, infer_datetime_format=True)\n",
    "    \n",
    "plots_in_row = 4\n",
    "#define how many rows on how many countries in list without china\n",
    "plots_in_col = math.ceil((len(countries_ts)-1)/plots_in_row)\n",
    "\n",
    "print(plots_in_col)\n",
    "\n",
    "fig, axs = plt.subplots(plots_in_col, plots_in_row, figsize=(15, 25), sharey=True, sharex=True)\n",
    "fig.autofmt_xdate(rotation=60)\n",
    "\n",
    "axs0 = axs.shape[0]\n",
    "axs1 = axs.shape[1]\n",
    "\n",
    "i = 0\n",
    "j = 0\n",
    "\n",
    "for country in countries_ts[1:]:\n",
    "    \n",
    "    axs[i][j].plot(dates_datetime_confirmed,df_confirmed[df_confirmed['Country/Region']==country].iloc[:,5:].sum(axis=0))\n",
    "    axs[i][j].plot(dates_datetime_deaths,df_deaths[df_deaths['Country/Region']==country].iloc[:,5:].sum(axis=0))\n",
    "    axs[i][j].plot(dates_datetime_recovered,df_recovered[df_recovered['Country/Region']==country].iloc[:,5:].sum(axis=0))\n",
    "    axs[i][j].set_title(country)\n",
    "    #axs[i][j].set_xticklabels(rotation=90)\n",
    "    i = i + 1\n",
    "    if i==plots_in_col:\n",
    "        i = 0\n",
    "        j = j + 1\n",
    "        if j==plots_in_row:\n",
    "            j = 0\n",
    "fig.suptitle('All countries excpect China',y=0.91)\n",
    "fig.legend(['Confirmed', 'Deaths', 'Recovered'],loc='upper left', bbox_to_anchor=(0., 0., 0.5, 0.5),bbox_transform=plt.gcf().transFigure)\n",
    "plt.savefig(\"img/rest.png\",bbox_inches='tight')"
   ]
  },
  {
   "cell_type": "code",
   "execution_count": null,
   "metadata": {},
   "outputs": [],
   "source": []
  },
  {
   "cell_type": "code",
   "execution_count": 52,
   "metadata": {},
   "outputs": [
    {
     "name": "stdout",
     "output_type": "stream",
     "text": [
      "[66292, 33, 29, 28, 18, 15, 10, 56, 67, 16, 11, 1, 19, 7, 15, 1, 1, 16, 1, 8, 3, 3, 3, 9, 2, 1, 2, 1, 218, 1]\n"
     ]
    }
   ],
   "source": [
    "#list of number of confirmed cases from last column\n",
    "confirmed_country = []\n",
    "row = len(dates_confirmed)-1\n",
    "for country in countries_ts:\n",
    "    confirmed_country.append(df_confirmed[df_confirmed['Country/Region']==country].iloc[:,5:].sum(axis=0)[row])\n",
    "\n",
    "print(confirmed_country)"
   ]
  },
  {
   "cell_type": "code",
   "execution_count": 46,
   "metadata": {},
   "outputs": [],
   "source": [
    "limit = 19"
   ]
  },
  {
   "cell_type": "code",
   "execution_count": 47,
   "metadata": {},
   "outputs": [
    {
     "name": "stdout",
     "output_type": "stream",
     "text": [
      "Number of countries with over 19 confirmed cases: 7\n"
     ]
    }
   ],
   "source": [
    "dictionary = {\"Country\":countries_ts ,\"Confirmed\":confirmed_country}\n",
    "\n",
    "countries_last_date = pd.DataFrame(dictionary)\n",
    "# print(countries_last_date)\n",
    "\n",
    "if_over_limit = countries_last_date.apply(lambda x: True if x['Confirmed'] > limit else False , axis=1)\n",
    "\n",
    "numOfRows = len(if_over_limit[if_over_limit == True].index)\n",
    " \n",
    "print('Number of countries with over {} confirmed cases: {}'.format(limit,numOfRows))"
   ]
  },
  {
   "cell_type": "code",
   "execution_count": null,
   "metadata": {},
   "outputs": [],
   "source": []
  },
  {
   "cell_type": "code",
   "execution_count": 56,
   "metadata": {},
   "outputs": [
    {
     "name": "stdout",
     "output_type": "stream",
     "text": [
      "Int64Index([0, 1, 2, 3, 7, 8, 28], dtype='int64')\n",
      "Int64Index([ 4,  5,  6,  9, 10, 11, 12, 13, 14, 15, 16, 17, 18, 19, 20, 21, 22,\n",
      "            23, 24, 25, 26, 27, 29],\n",
      "           dtype='int64')\n",
      "                 Country  Confirmed\n",
      "4                 Taiwan         18\n",
      "5                     US         15\n",
      "6                  Macau         10\n",
      "9                Vietnam         16\n",
      "10                France         11\n",
      "11                 Nepal          1\n",
      "12              Malaysia         19\n",
      "13                Canada          7\n",
      "14             Australia         15\n",
      "15              Cambodia          1\n",
      "16             Sri Lanka          1\n",
      "17               Germany         16\n",
      "18               Finland          1\n",
      "19  United Arab Emirates          8\n",
      "20           Philippines          3\n",
      "21                 India          3\n",
      "22                 Italy          3\n",
      "23                    UK          9\n",
      "24                Russia          2\n",
      "25                Sweden          1\n",
      "26                 Spain          2\n",
      "27               Belgium          1\n",
      "29                 Egypt          1\n",
      "           Country  Confirmed\n",
      "0   Mainland China      66292\n",
      "1         Thailand         33\n",
      "2            Japan         29\n",
      "3      South Korea         28\n",
      "7        Hong Kong         56\n",
      "8        Singapore         67\n",
      "28          Others        218\n"
     ]
    }
   ],
   "source": [
    "#\n",
    "indexTrue = if_over_limit[ if_over_limit == True ].index\n",
    "indexFalse = if_over_limit[ if_over_limit == False ].index\n",
    "print(indexTrue)\n",
    "print(indexFalse)\n",
    "\n",
    "#copying to not change original df\n",
    "countries_over_limit = countries_last_date.copy()\n",
    "countries_under_limit = countries_last_date.copy()\n",
    "\n",
    "countries_over_limit.drop(indexTrue, inplace=True, axis=0)\n",
    "countries_under_limit.drop(indexFalse, inplace=True, axis=0)\n",
    "\n",
    "print(countries_over_limit)\n",
    "print(countries_under_limit)"
   ]
  },
  {
   "cell_type": "code",
   "execution_count": 49,
   "metadata": {},
   "outputs": [
    {
     "name": "stdout",
     "output_type": "stream",
     "text": [
      "                 Country  Confirmed\n",
      "0         Mainland China      66292\n",
      "1               Thailand         33\n",
      "2                  Japan         29\n",
      "3            South Korea         28\n",
      "4                 Taiwan         18\n",
      "5                     US         15\n",
      "6                  Macau         10\n",
      "7              Hong Kong         56\n",
      "8              Singapore         67\n",
      "9                Vietnam         16\n",
      "10                France         11\n",
      "11                 Nepal          1\n",
      "12              Malaysia         19\n",
      "13                Canada          7\n",
      "14             Australia         15\n",
      "15              Cambodia          1\n",
      "16             Sri Lanka          1\n",
      "17               Germany         16\n",
      "18               Finland          1\n",
      "19  United Arab Emirates          8\n",
      "20           Philippines          3\n",
      "21                 India          3\n",
      "22                 Italy          3\n",
      "23                    UK          9\n",
      "24                Russia          2\n",
      "25                Sweden          1\n",
      "26                 Spain          2\n",
      "27               Belgium          1\n",
      "28                Others        218\n",
      "29                 Egypt          1\n"
     ]
    }
   ],
   "source": [
    "print(countries_last_date)"
   ]
  },
  {
   "cell_type": "code",
   "execution_count": 51,
   "metadata": {},
   "outputs": [
    {
     "data": {
      "image/png": "[encoded data removed]",
      "text/plain": [
       "<Figure size 1080x1800 with 8 Axes>"
      ]
     },
     "metadata": {
      "needs_background": "light"
     },
     "output_type": "display_data"
    }
   ],
   "source": [
    "###plot for countries with confirmed cases over limit\n",
    "\n",
    "plots_in_row = 4\n",
    "#define how many rows on how many countries in list without china\n",
    "plots_in_col = math.ceil((numOfRows-1)/plots_in_row)\n",
    "\n",
    "fig, axs = plt.subplots(plots_in_col, plots_in_row, figsize=(15, 25), sharey=True, sharex=True)\n",
    "fig.autofmt_xdate(rotation=60)\n",
    "\n",
    "axs0 = axs.shape[0]\n",
    "axs1 = axs.shape[1]\n",
    "\n",
    "i = 0\n",
    "j = 0\n",
    "\n",
    "# for country in countries_ts[1:]:\n",
    "    \n",
    "#     axs[i][j].plot(dates_datetime_confirmed,df_confirmed[df_confirmed['Country/Region']==country].iloc[:,5:].sum(axis=0))\n",
    "#     axs[i][j].plot(dates_datetime_deaths,df_deaths[df_deaths['Country/Region']==country].iloc[:,5:].sum(axis=0))\n",
    "#     axs[i][j].plot(dates_datetime_recovered,df_recovered[df_recovered['Country/Region']==country].iloc[:,5:].sum(axis=0))\n",
    "#     axs[i][j].set_title(country)\n",
    "#     #axs[i][j].set_xticklabels(rotation=90)\n",
    "#     i = i + 1\n",
    "#     if i==plots_in_col:\n",
    "#         i = 0\n",
    "#         j = j + 1\n",
    "#         if j==plots_in_row:\n",
    "#             j = 0\n",
    "# fig.suptitle('All countries excpect China',y=0.91)\n",
    "# fig.legend(['Confirmed', 'Deaths', 'Recovered'],loc='upper left', bbox_to_anchor=(0., 0., 0.5, 0.5),bbox_transform=plt.gcf().transFigure)\n",
    "# plt.savefig(\"img/rest.png\",bbox_inches='tight')"
   ]
  },
  {
   "cell_type": "code",
   "execution_count": 51,
   "metadata": {},
   "outputs": [],
   "source": [
    "# now need to add creating plots for True and False If_over_limit separately\n",
    "\n",
    "for country in countries_ts:\n",
    "     "
   ]
  },
  {
   "cell_type": "code",
   "execution_count": null,
   "metadata": {},
   "outputs": [],
   "source": []
  },
  {
   "cell_type": "code",
   "execution_count": null,
   "metadata": {},
   "outputs": [],
   "source": []
  },
  {
   "cell_type": "code",
   "execution_count": 29,
   "metadata": {},
   "outputs": [],
   "source": [
    "#dzienne przyrosty"
   ]
  },
  {
   "cell_type": "code",
   "execution_count": 30,
   "metadata": {},
   "outputs": [],
   "source": []
  },
  {
   "cell_type": "code",
   "execution_count": null,
   "metadata": {},
   "outputs": [],
   "source": []
  },
  {
   "cell_type": "code",
   "execution_count": null,
   "metadata": {},
   "outputs": [],
   "source": []
  }
 ],
 "metadata": {
  "kernelspec": {
   "display_name": "Python 3",
   "language": "python",
   "name": "python3"
  },
  "language_info": {
   "codemirror_mode": {
    "name": "ipython",
    "version": 3
   },
   "file_extension": ".py",
   "mimetype": "text/x-python",
   "name": "python",
   "nbconvert_exporter": "python",
   "pygments_lexer": "ipython3",
   "version": "3.7.3"
  }
 },
 "nbformat": 4,
 "nbformat_minor": 2
}
