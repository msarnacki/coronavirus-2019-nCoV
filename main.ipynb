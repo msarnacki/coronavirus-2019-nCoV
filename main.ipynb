{
 "cells": [
  {
   "cell_type": "code",
   "execution_count": 1,
   "metadata": {},
   "outputs": [],
   "source": [
    "import gspread\n",
    "from gspread_dataframe import get_as_dataframe\n",
    "from oauth2client.service_account import ServiceAccountCredentials\n",
    "import pandas as pd\n",
    "import numpy as np\n",
    "import matplotlib.pyplot as plt"
   ]
  },
  {
   "cell_type": "code",
   "execution_count": 2,
   "metadata": {},
   "outputs": [],
   "source": [
    "scope = [\"https://spreadsheets.google.com/feeds\",'https://www.googleapis.com/auth/spreadsheets',\"https://www.googleapis.com/auth/drive.file\",\"https://www.googleapis.com/auth/drive\"]"
   ]
  },
  {
   "cell_type": "code",
   "execution_count": 3,
   "metadata": {},
   "outputs": [],
   "source": [
    "creds = ServiceAccountCredentials.from_json_keyfile_name(\"creds.json\", scope)\n",
    "client = gspread.authorize(creds)"
   ]
  },
  {
   "cell_type": "code",
   "execution_count": 4,
   "metadata": {},
   "outputs": [],
   "source": [
    "#spreadsheets with different dates placed in separate worksheets\n",
    "spreadsheet_old = client.open_by_url(\"https://docs.google.com/spreadsheets/d/1yZv9w9zRKwrGTaR-YzmAqMefw4wMlaXocejdxZaTs6w/edit#gid=638231677\")\n",
    "spreadsheet = client.open_by_url(\"https://docs.google.com/spreadsheets/d/1wQVypefm946ch4XDp37uZ-wartW4V7ILdg-qYiDXUHM/htmlview?usp=sharing&sle=true\")\n",
    "#spreadsheet with 3 worksheets - Confirmed, Deaths, Recovered - columns are dates\n",
    "spreadsheet_time_series = client.open_by_url(\"https://docs.google.com/spreadsheets/d/1UF2pSkFTURko2OvfHWWlFpDFAr1UxCBA4JLwlSP6KFo/htmlview?usp=sharing&sle=true\")"
   ]
  },
  {
   "cell_type": "code",
   "execution_count": 5,
   "metadata": {},
   "outputs": [],
   "source": [
    "### lists and dicts to help clear dataframes\n",
    "#list of columns i want to keep\n",
    "const_cols = [\"Province/State\", \"Country\", \"Country/Region\", \"Date last updated\", \"Last Update\", \"Confirmed\", \"Recovered\", \"Deaths\"]\n",
    "#dict of column names to change\n",
    "column_names = {\"Country\": \"Country/Region\", \"Date last updated\": \"Last Update\"}\n",
    "#dict of columns and values to put in NaNs\n",
    "fillna_values = {'Province/State': \"\", \"Country/Region\": \"\", \"Confirmed\": 0, \"Recovered\": 0, \"Deaths\":0}"
   ]
  },
  {
   "cell_type": "code",
   "execution_count": 6,
   "metadata": {},
   "outputs": [],
   "source": [
    "#lists with worksheets\n",
    "list_dates = spreadsheet.worksheets()\n",
    "list_time_series = spreadsheet_time_series.worksheets()"
   ]
  },
  {
   "cell_type": "code",
   "execution_count": 7,
   "metadata": {},
   "outputs": [],
   "source": [
    "#list to help change column names\n",
    "list_of_column_names = []\n",
    "\n",
    "def read_spreadsheets(spreadsheet, list_dates,save):\n",
    "    titles = []\n",
    "    df_list = []\n",
    "\n",
    "    for df in list_dates:\n",
    "        #get worksheet as df\n",
    "        title = df.title\n",
    "        titles.append(title)\n",
    "        df = get_as_dataframe(spreadsheet.worksheet(title))\n",
    "        # delete columns i don't need\n",
    "        for col in df.columns:\n",
    "            if not col in const_cols:\n",
    "                df = df.drop(labels=col, axis=1)\n",
    "        #get column names that stayed in list of dfs\n",
    "#         for col in df.columns:\n",
    "#             if not col in list_of_column_names:\n",
    "#                 list_of_column_names.append(col)\n",
    "\n",
    "        #drop columns and rows with only NaNs\n",
    "        df = df.dropna(axis=0, how='all')\n",
    "        df = df.dropna(axis=1, how='all')\n",
    "\n",
    "        # changing column names to standarise it\n",
    "        df = df.rename(columns=column_names)\n",
    "\n",
    "        #filling NaNs\n",
    "        df = df.fillna(value=fillna_values)\n",
    "\n",
    "        #adding dfs to df_list\n",
    "        df_list.append(df)\n",
    "\n",
    "    #save multiple sheets to excel\n",
    "    if save == True:\n",
    "        writer = pd.ExcelWriter('2019_nCoV_multiple_sheets.xlsx', engine='xlsxwriter')\n",
    "\n",
    "        for i, df in enumerate(df_list, 0):\n",
    "            df.to_excel(writer, sheet_name=titles[i], index=False)\n",
    "\n",
    "        writer.save()\n",
    "\n",
    "    return df_list"
   ]
  },
  {
   "cell_type": "code",
   "execution_count": 8,
   "metadata": {},
   "outputs": [],
   "source": [
    "def big_df(df_list,fillna_values):\n",
    "    #make df is a first date df for a start\n",
    "    main_df = df_list[len(df_list) - 1]\n",
    "    #adding next dfs to main_df\n",
    "    for i in range(0, len(df_list) - 1):\n",
    "        main_df = pd.concat([main_df, df_list[len(df_list) - 1 - i]], axis=0, ignore_index=True, sort=False)\n",
    "    main_df = main_df.fillna(value=fillna_values)\n",
    "    return main_df"
   ]
  },
  {
   "cell_type": "code",
   "execution_count": 9,
   "metadata": {},
   "outputs": [],
   "source": [
    "def read_time_series_spreadsheets(spreadsheet_time_series,list,save):\n",
    "    titles = []\n",
    "    df_list = []\n",
    "\n",
    "    for df in list:\n",
    "        # get worksheet as df\n",
    "        title = df.title\n",
    "        titles.append(title)\n",
    "        df = get_as_dataframe(spreadsheet_time_series.worksheet(title))\n",
    "\n",
    "        df = df.dropna(axis=0, how='all')\n",
    "        df = df.dropna(axis=1, how='all')\n",
    "\n",
    "        df_text = df[df.columns[0:2]]\n",
    "        df_text = df_text.fillna(value = '')\n",
    "        df_val = df[df.columns[2:len(df.columns)]]\n",
    "        df_val = df_val.fillna(value = 0)\n",
    "        df = pd.concat([df_text,df_val],axis=1)\n",
    "        df_list.append(df)\n",
    "\n",
    "    if save == True:\n",
    "        writer = pd.ExcelWriter('2019_nCoV_time_series.xlsx', engine='xlsxwriter')\n",
    "\n",
    "        for i, df in enumerate(df_list,0):\n",
    "            df.to_excel(writer,sheet_name=titles[i], index=False)\n",
    "\n",
    "        writer.save()\n",
    "\n",
    "    return df_list"
   ]
  },
  {
   "cell_type": "code",
   "execution_count": 10,
   "metadata": {},
   "outputs": [],
   "source": [
    "df_list = read_spreadsheets(spreadsheet,list_dates,save=True)"
   ]
  },
  {
   "cell_type": "code",
   "execution_count": 11,
   "metadata": {},
   "outputs": [],
   "source": [
    "ts_df_list = read_time_series_spreadsheets(spreadsheet_time_series, list_time_series, save=True)"
   ]
  },
  {
   "cell_type": "code",
   "execution_count": 12,
   "metadata": {},
   "outputs": [],
   "source": [
    "main_df = big_df(df_list,fillna_values)"
   ]
  },
  {
   "cell_type": "code",
   "execution_count": 13,
   "metadata": {},
   "outputs": [],
   "source": [
    "main_df.to_excel('2019_nCoV.xlsx', sheet_name=\"2019_nCoV_all_data\",index=False)"
   ]
  },
  {
   "cell_type": "code",
   "execution_count": 14,
   "metadata": {},
   "outputs": [
    {
     "name": "stdout",
     "output_type": "stream",
     "text": [
      "Shape of dataframe: (72, 38)\n"
     ]
    }
   ],
   "source": [
    "print(\"Shape of dataframe: {}\".format(ts_df_list[0].shape))\n",
    "#printing whole df\n",
    "# with pd.option_context('display.max_rows', None, 'display.max_columns', None):\n",
    "#     print(ts_df_list[0])"
   ]
  },
  {
   "cell_type": "code",
   "execution_count": 15,
   "metadata": {},
   "outputs": [],
   "source": [
    "#confirmed time series df\n",
    "#time_series_df_list[0]"
   ]
  },
  {
   "cell_type": "code",
   "execution_count": 16,
   "metadata": {},
   "outputs": [],
   "source": [
    "#\n",
    "china_confirmed_series = ts_df_list[0][ts_df_list[0]['Country/Region']==\"Mainland China\"].iloc[:,5:].sum(axis=0)\n",
    "china_recovered_series = ts_df_list[1][ts_df_list[1]['Country/Region']==\"Mainland China\"].iloc[:,5:].sum(axis=0)\n",
    "china_deaths_series = ts_df_list[2][ts_df_list[2]['Country/Region']==\"Mainland China\"].iloc[:,5:].sum(axis=0)\n",
    "#print(china_confirmed_series)\n",
    "#print(china_recovered_series)\n",
    "#print(china_deaths_series)"
   ]
  },
  {
   "cell_type": "code",
   "execution_count": 17,
   "metadata": {},
   "outputs": [
    {
     "name": "stdout",
     "output_type": "stream",
     "text": [
      "DatetimeIndex(['2020-01-21 22:00:00', '2020-01-22 12:00:00',\n",
      "               '2020-01-23 12:00:00', '2020-01-24 00:00:00',\n",
      "               '2020-01-24 12:00:00', '2020-01-25 00:00:00',\n",
      "               '2020-01-25 12:00:00', '2020-01-25 22:00:00',\n",
      "               '2020-01-26 11:00:00', '2020-01-26 23:00:00',\n",
      "               '2020-01-27 09:00:00', '2020-01-27 19:00:00',\n",
      "               '2020-01-27 20:30:00', '2020-01-28 13:00:00',\n",
      "               '2020-01-28 18:00:00', '2020-01-28 23:00:00',\n",
      "               '2020-01-29 13:30:00', '2020-01-29 14:30:00',\n",
      "               '2020-01-29 21:00:00', '2020-01-30 11:00:00',\n",
      "               '2020-01-31 14:00:00', '2020-01-31 19:00:00',\n",
      "               '2020-02-01 10:00:00', '2020-02-02 21:00:00',\n",
      "               '2020-02-03 21:00:00', '2020-02-04 09:40:00',\n",
      "               '2020-02-04 22:00:00', '2020-02-05 09:00:00',\n",
      "               '2020-02-05 23:00:00', '2020-02-06 09:00:00',\n",
      "               '2020-02-06 14:20:00', '2020-02-07 20:13:00',\n",
      "               '2020-02-07 22:50:00'],\n",
      "              dtype='datetime64[ns]', freq=None)\n",
      "DatetimeIndex(['2020-01-21 22:00:00', '2020-01-22 12:00:00',\n",
      "               '2020-01-23 12:00:00', '2020-01-24 00:00:00',\n",
      "               '2020-01-24 12:00:00', '2020-01-25 00:00:00',\n",
      "               '2020-01-25 12:00:00', '2020-01-25 22:00:00',\n",
      "               '2020-01-26 11:00:00', '2020-01-26 23:00:00',\n",
      "               '2020-01-27 09:00:00', '2020-01-27 19:00:00',\n",
      "               '2020-01-27 20:30:00', '2020-01-28 13:00:00',\n",
      "               '2020-01-28 18:00:00', '2020-01-28 23:00:00',\n",
      "               '2020-01-29 13:30:00', '2020-01-29 14:30:00',\n",
      "               '2020-01-29 21:00:00', '2020-01-30 11:00:00',\n",
      "               '2020-01-31 14:00:00', '2020-02-01 10:00:00',\n",
      "               '2020-02-02 21:00:00', '2020-02-03 21:00:00',\n",
      "               '2020-02-04 09:40:00', '2020-02-04 22:00:00',\n",
      "               '2020-02-05 09:00:00', '2020-02-05 23:00:00',\n",
      "               '2020-02-06 09:00:00', '2020-02-06 14:20:00',\n",
      "               '2020-02-07 20:13:00', '2020-02-07 22:50:00'],\n",
      "              dtype='datetime64[ns]', freq=None)\n",
      "DatetimeIndex(['2020-01-24 00:00:00', '2020-01-24 12:00:00',\n",
      "               '2020-01-25 00:00:00', '2020-01-25 12:00:00',\n",
      "               '2020-01-25 22:00:00', '2020-01-26 11:00:00',\n",
      "               '2020-01-26 23:00:00', '2020-01-27 09:00:00',\n",
      "               '2020-01-27 19:00:00', '2020-01-27 20:30:00',\n",
      "               '2020-01-28 13:00:00', '2020-01-28 18:00:00',\n",
      "               '2020-01-28 23:00:00', '2020-01-29 13:30:00',\n",
      "               '2020-01-29 14:30:00', '2020-01-29 21:00:00',\n",
      "               '2020-01-30 11:00:00', '2020-01-31 14:00:00',\n",
      "               '2020-01-31 19:00:00', '2020-02-01 10:00:00',\n",
      "               '2020-02-02 21:00:00', '2020-02-03 21:00:00',\n",
      "               '2020-02-04 09:40:00', '2020-02-04 22:00:00',\n",
      "               '2020-02-05 09:00:00', '2020-02-05 23:00:00',\n",
      "               '2020-02-06 09:00:00', '2020-02-06 14:20:00',\n",
      "               '2020-02-07 20:13:00', '2020-02-07 22:50:00'],\n",
      "              dtype='datetime64[ns]', freq=None)\n"
     ]
    }
   ],
   "source": [
    "dates_0 = china_confirmed_series.index.values\n",
    "dates_datetime_0 = pd.to_datetime(dates_0, format=\"%m/%d/%Y %I:%M %p\")\n",
    "print(dates_datetime_0)\n",
    "dates_1 = china_recovered_series.index.values\n",
    "dates_datetime_1 = pd.to_datetime(dates_1, format=\"%m/%d/%Y %I:%M %p\")\n",
    "print(dates_datetime_1)\n",
    "dates_2 = china_deaths_series.index.values\n",
    "dates_datetime_2 = pd.to_datetime(dates_2, format=\"%m/%d/%Y %I:%M %p\")\n",
    "print(dates_datetime_2)"
   ]
  },
  {
   "cell_type": "code",
   "execution_count": 18,
   "metadata": {},
   "outputs": [],
   "source": [
    "#something for converting datetime for x axis\n",
    "from pandas.plotting import register_matplotlib_converters\n",
    "register_matplotlib_converters()"
   ]
  },
  {
   "cell_type": "code",
   "execution_count": 25,
   "metadata": {},
   "outputs": [
    {
     "data": {
      "image/png": "[encoded data removed]",
      "text/plain": [
       "<Figure size 432x288 with 1 Axes>"
      ]
     },
     "metadata": {
      "needs_background": "light"
     },
     "output_type": "display_data"
    }
   ],
   "source": [
    "plt.plot(dates_datetime_0, china_confirmed_series, dates_datetime_1, china_recovered_series, dates_datetime_2, china_deaths_series)\n",
    "plt.xticks(rotation=60)\n",
    "plt.legend(['Confirmed', 'Recovered', 'Deaths'])\n",
    "plt.title(\"Mainland China\")\n",
    "plt.savefig(\"img/china.png\",bbox_inches='tight')"
   ]
  },
  {
   "cell_type": "code",
   "execution_count": 20,
   "metadata": {},
   "outputs": [
    {
     "name": "stdout",
     "output_type": "stream",
     "text": [
      "29\n",
      "['Mainland China' 'Thailand' 'Japan' 'South Korea' 'Taiwan' 'US' 'Macau'\n",
      " 'Hong Kong' 'Singapore' 'Vietnam' 'France' 'Nepal' 'Malaysia' 'Canada'\n",
      " 'Australia' 'Cambodia' 'Sri Lanka' 'Germany' 'Finland'\n",
      " 'United Arab Emirates' 'Philippines' 'India' 'Italy' 'UK' 'Russia'\n",
      " 'Sweden' 'Spain' 'Belgium' 'Others']\n"
     ]
    }
   ],
   "source": [
    "countries_ts = ts_df_list[0]['Country/Region'].unique()\n",
    "print(len(countries_ts))\n",
    "print(countries_ts)"
   ]
  },
  {
   "cell_type": "code",
   "execution_count": 22,
   "metadata": {},
   "outputs": [],
   "source": [
    "#for country in countries_ts:\n",
    "    #plt.plot(dates_datetime, ts_df_list[0][ts_df_list[0]['Country/Region']==country].iloc[:,5:].sum(axis=0))\n",
    "    #plt.show()"
   ]
  },
  {
   "cell_type": "code",
   "execution_count": 28,
   "metadata": {},
   "outputs": [],
   "source": [
    "import math"
   ]
  },
  {
   "cell_type": "code",
   "execution_count": null,
   "metadata": {},
   "outputs": [],
   "source": [
    "country_confirmed_series = ts_df_list[0][ts_df_list[0]['Country/Region']==countries_ts[0]].iloc[:,5:].sum(axis=0)\n",
    "country_recovered_series = ts_df_list[1][ts_df_list[1]['Country/Region']==countries_ts[0]].iloc[:,5:].sum(axis=0)\n",
    "country_deaths_series = ts_df_list[2][ts_df_list[2]['Country/Region']==countries_ts[0]].iloc[:,5:].sum(axis=0)\n",
    "dates_0 = country_confirmed_series.index.values\n",
    "dates_datetime_0 = pd.to_datetime(dates_0, format=\"%m/%d/%Y %I:%M %p\")\n",
    "dates_1 = country_recovered_series.index.values\n",
    "dates_datetime_1 = pd.to_datetime(dates_1, format=\"%m/%d/%Y %I:%M %p\")\n",
    "dates_2 = country_deaths_series.index.values\n",
    "dates_datetime_2 = pd.to_datetime(dates_2, format=\"%m/%d/%Y %I:%M %p\")\n",
    "    \n",
    "plots_in_row = 4\n",
    "plots_in_col = math.floor((len(countries_ts)+3)/4)\n",
    "print(plots_in_col)\n",
    "\n",
    "fig, axs = plt.subplots(plots_in_col, plots_in_row, figsize=(15, 25), sharey=True, sharex=True)\n",
    "fig.autofmt_xdate(rotation=60)\n",
    "\n",
    "axs0 = axs.shape[0]\n",
    "axs1 = axs.shape[1]\n",
    "\n",
    "i = 0\n",
    "j = 0\n",
    "\n",
    "for country in countries_ts[1:]:\n",
    "    \n",
    "    axs[i][j].plot(dates_datetime_0,ts_df_list[0][ts_df_list[0]['Country/Region']==country].iloc[:,5:].sum(axis=0))\n",
    "    axs[i][j].plot(dates_datetime_1,ts_df_list[1][ts_df_list[1]['Country/Region']==country].iloc[:,5:].sum(axis=0))\n",
    "    axs[i][j].plot(dates_datetime_2,ts_df_list[2][ts_df_list[2]['Country/Region']==country].iloc[:,5:].sum(axis=0))\n",
    "    axs[i][j].set_title(country)\n",
    "    #axs[i][j].set_xticklabels(rotation=90)\n",
    "    i = i + 1\n",
    "    if i==plots_in_col:\n",
    "        i = 0\n",
    "        j = j + 1\n",
    "        if j==plots_in_row:\n",
    "            j = 0\n",
    "fig.suptitle('All countries excpect China',y=0.91)\n",
    "fig.legend(['Confirmed', 'Recovered', 'Deaths'],loc='upper left', bbox_to_anchor=(0., 0., 0.5, 0.5),bbox_transform=plt.gcf().transFigure)\n",
    "plt.savefig(\"img/rest.png\",bbox_inches='tight')"
   ]
  },
  {
   "cell_type": "code",
   "execution_count": null,
   "metadata": {},
   "outputs": [],
   "source": []
  }
 ],
 "metadata": {
  "kernelspec": {
   "display_name": "Python 3",
   "language": "python",
   "name": "python3"
  },
  "language_info": {
   "codemirror_mode": {
    "name": "ipython",
    "version": 3
   },
   "file_extension": ".py",
   "mimetype": "text/x-python",
   "name": "python",
   "nbconvert_exporter": "python",
   "pygments_lexer": "ipython3",
   "version": "3.7.3"
  }
 },
 "nbformat": 4,
 "nbformat_minor": 2
}
